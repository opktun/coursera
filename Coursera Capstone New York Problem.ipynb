{
 "cells": [
  {
   "cell_type": "markdown",
   "metadata": {},
   "source": [
    "I will see if I can analyze New York City data to see which type of businesses are most popular via number of times people have checked-in. Using tis data I will explore areas where these type of business are lacking, which could mean opening up such business in these areas could prove to be profitable.\n",
    "\n",
    "The target audience is mainly small and medium business owners who would want to open new branches if their business is that which would fill the need gap of the locations.\n",
    "\n",
    "The data comes from Dingqi Yang from the following link https://sites.google.com/site/yangdingqi/home/foursquare-dataset. It contains 227,428 check-ins in New York city. The data contains a file in tsv format. Each file contains 8 columns, which are:\n",
    "\n",
    "    User ID (anonymized)\n",
    "\n",
    "    Venue ID (Foursquare)\n",
    "\n",
    "    Venue category ID (Foursquare)\n",
    "\n",
    "    Venue category name (Foursquare)\n",
    "\n",
    "    Latitude\n",
    "\n",
    "    Longitude\n",
    "\n",
    "    Time zone offset in minutes (The offset in minutes between when this check-in occurred and the same time in UTC)\n",
    "\n",
    "    UTC time\n",
    "    \n",
    "I'll try to find the most visited commercial setup via check-ins and then try to find areas where this type of business does not exist.\n",
    "\n",
    "\n"
   ]
  }
 ],
 "metadata": {
  "kernelspec": {
   "display_name": "Python 3",
   "language": "python",
   "name": "python3"
  },
  "language_info": {
   "codemirror_mode": {
    "name": "ipython",
    "version": 3
   },
   "file_extension": ".py",
   "mimetype": "text/x-python",
   "name": "python",
   "nbconvert_exporter": "python",
   "pygments_lexer": "ipython3",
   "version": "3.7.4"
  }
 },
 "nbformat": 4,
 "nbformat_minor": 2
}
